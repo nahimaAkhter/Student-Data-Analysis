{
  "nbformat": 4,
  "nbformat_minor": 0,
  "metadata": {
    "colab": {
      "provenance": []
    },
    "kernelspec": {
      "name": "python3",
      "display_name": "Python 3"
    },
    "language_info": {
      "name": "python"
    }
  },
  "cells": [
    {
      "cell_type": "markdown",
      "source": [
        "# ***Python Course Dataset Analysis***"
      ],
      "metadata": {
        "id": "ac2BNsgxN5cB"
      }
    },
    {
      "cell_type": "code",
      "execution_count": null,
      "metadata": {
        "id": "Fla1jglQhnEr"
      },
      "outputs": [],
      "source": [
        "import numpy as np\n",
        "import matplotlib.pyplot as plt\n",
        "import seaborn as sns\n",
        "import pandas as pd"
      ]
    },
    {
      "cell_type": "code",
      "source": [
        "c_df=pd.read_csv(\"/content/Python_Course.csv\")"
      ],
      "metadata": {
        "id": "YSMBcKBQnjIw"
      },
      "execution_count": null,
      "outputs": []
    },
    {
      "cell_type": "markdown",
      "source": [
        "# ***First and last five records of the data set***"
      ],
      "metadata": {
        "id": "20UUKX0GOjTk"
      }
    },
    {
      "cell_type": "code",
      "source": [
        "c_df.head()"
      ],
      "metadata": {
        "colab": {
          "base_uri": "https://localhost:8080/",
          "height": 545
        },
        "id": "B3wFYuUqOWf3",
        "outputId": "f4eb9171-0b64-45b8-e336-00135f3fa4e8"
      },
      "execution_count": null,
      "outputs": [
        {
          "output_type": "execute_result",
          "data": {
            "text/plain": [
              "  Last Name  First Name               Email Address  \\\n",
              "0      Date         NaN                         NaN   \n",
              "1    Points         NaN                         NaN   \n",
              "2  Siddique  Abu Bakkar  bakkarreigns1111@gmail.com   \n",
              "3   Hossain       Afnan        kmafnan001@gmail.com   \n",
              "4       Nur      Akibun    akibunnur70731@gmail.com   \n",
              "\n",
              "  1.What is an expression?\\n2.What is a syntax error?\\n3.What is PEP8?\\n4.What does a linter do?\\n5.What is the result of this expression: “*” * 10\\n6.What is CPython?\\n7.How is CPython different from Jython?\\n8.How is CPython different from IronPython?  \\\n",
              "0                                       Oct 22, 2022                                                                                                                                                                                                            \n",
              "1                                                NaN                                                                                                                                                                                                            \n",
              "2                                                NaN                                                                                                                                                                                                            \n",
              "3                                                NaN                                                                                                                                                                                                            \n",
              "4                                                NaN                                                                                                                                                                                                            \n",
              "\n",
              "  Q-1: What are the different data types in python? Give Example.\\n\\nQ-2: What is string? Describes it's Uses \\n\\nQ-3: What are the rules of declaring a variable?\\n\\nQ-4: A twenty two year old Patient in DMC is fighting with Cancer for last three and half an year. Declare all necessary variables for the patient. also print the type of your variables and add a screenshot with your answer.\\n\\nQ-5: Write an input function which will ask for your Name & date of birth(year only) and will give your age as output.  \\nfor example: X, you are Y years of old.\\n  \\\n",
              "0                                       Oct 27, 2022                                                                                                                                                                                                                                                                                                                                                                                                                                                                                                                            \n",
              "1                                              100.0                                                                                                                                                                                                                                                                                                                                                                                                                                                                                                                            \n",
              "2                                               60.0                                                                                                                                                                                                                                                                                                                                                                                                                                                                                                                            \n",
              "3                                               75.0                                                                                                                                                                                                                                                                                                                                                                                                                                                                                                                            \n",
              "4                                               60.0                                                                                                                                                                                                                                                                                                                                                                                                                                                                                                                            \n",
              "\n",
              "  Buiding a Basic Calculator Basic Python Contest    NumPy Quiz  \n",
              "0                Nov 4, 2022         Nov 24, 2022  Nov 28, 2022  \n",
              "1                       15.0                 25.0          20.0  \n",
              "2                        NaN                  NaN          15.0  \n",
              "3                       15.0                  NaN          16.0  \n",
              "4                        NaN                  NaN          16.0  "
            ],
            "text/html": [
              "\n",
              "  <div id=\"df-5d648b0c-dcd8-469e-a3a6-1479a28cac36\">\n",
              "    <div class=\"colab-df-container\">\n",
              "      <div>\n",
              "<style scoped>\n",
              "    .dataframe tbody tr th:only-of-type {\n",
              "        vertical-align: middle;\n",
              "    }\n",
              "\n",
              "    .dataframe tbody tr th {\n",
              "        vertical-align: top;\n",
              "    }\n",
              "\n",
              "    .dataframe thead th {\n",
              "        text-align: right;\n",
              "    }\n",
              "</style>\n",
              "<table border=\"1\" class=\"dataframe\">\n",
              "  <thead>\n",
              "    <tr style=\"text-align: right;\">\n",
              "      <th></th>\n",
              "      <th>Last Name</th>\n",
              "      <th>First Name</th>\n",
              "      <th>Email Address</th>\n",
              "      <th>1.What is an expression?\\n2.What is a syntax error?\\n3.What is PEP8?\\n4.What does a linter do?\\n5.What is the result of this expression: “*” * 10\\n6.What is CPython?\\n7.How is CPython different from Jython?\\n8.How is CPython different from IronPython?</th>\n",
              "      <th>Q-1: What are the different data types in python? Give Example.\\n\\nQ-2: What is string? Describes it's Uses \\n\\nQ-3: What are the rules of declaring a variable?\\n\\nQ-4: A twenty two year old Patient in DMC is fighting with Cancer for last three and half an year. Declare all necessary variables for the patient. also print the type of your variables and add a screenshot with your answer.\\n\\nQ-5: Write an input function which will ask for your Name &amp; date of birth(year only) and will give your age as output.  \\nfor example: X, you are Y years of old.\\n</th>\n",
              "      <th>Buiding a Basic Calculator</th>\n",
              "      <th>Basic Python Contest</th>\n",
              "      <th>NumPy Quiz</th>\n",
              "    </tr>\n",
              "  </thead>\n",
              "  <tbody>\n",
              "    <tr>\n",
              "      <th>0</th>\n",
              "      <td>Date</td>\n",
              "      <td>NaN</td>\n",
              "      <td>NaN</td>\n",
              "      <td>Oct 22, 2022</td>\n",
              "      <td>Oct 27, 2022</td>\n",
              "      <td>Nov 4, 2022</td>\n",
              "      <td>Nov 24, 2022</td>\n",
              "      <td>Nov 28, 2022</td>\n",
              "    </tr>\n",
              "    <tr>\n",
              "      <th>1</th>\n",
              "      <td>Points</td>\n",
              "      <td>NaN</td>\n",
              "      <td>NaN</td>\n",
              "      <td>NaN</td>\n",
              "      <td>100.0</td>\n",
              "      <td>15.0</td>\n",
              "      <td>25.0</td>\n",
              "      <td>20.0</td>\n",
              "    </tr>\n",
              "    <tr>\n",
              "      <th>2</th>\n",
              "      <td>Siddique</td>\n",
              "      <td>Abu Bakkar</td>\n",
              "      <td>bakkarreigns1111@gmail.com</td>\n",
              "      <td>NaN</td>\n",
              "      <td>60.0</td>\n",
              "      <td>NaN</td>\n",
              "      <td>NaN</td>\n",
              "      <td>15.0</td>\n",
              "    </tr>\n",
              "    <tr>\n",
              "      <th>3</th>\n",
              "      <td>Hossain</td>\n",
              "      <td>Afnan</td>\n",
              "      <td>kmafnan001@gmail.com</td>\n",
              "      <td>NaN</td>\n",
              "      <td>75.0</td>\n",
              "      <td>15.0</td>\n",
              "      <td>NaN</td>\n",
              "      <td>16.0</td>\n",
              "    </tr>\n",
              "    <tr>\n",
              "      <th>4</th>\n",
              "      <td>Nur</td>\n",
              "      <td>Akibun</td>\n",
              "      <td>akibunnur70731@gmail.com</td>\n",
              "      <td>NaN</td>\n",
              "      <td>60.0</td>\n",
              "      <td>NaN</td>\n",
              "      <td>NaN</td>\n",
              "      <td>16.0</td>\n",
              "    </tr>\n",
              "  </tbody>\n",
              "</table>\n",
              "</div>\n",
              "      <button class=\"colab-df-convert\" onclick=\"convertToInteractive('df-5d648b0c-dcd8-469e-a3a6-1479a28cac36')\"\n",
              "              title=\"Convert this dataframe to an interactive table.\"\n",
              "              style=\"display:none;\">\n",
              "        \n",
              "  <svg xmlns=\"http://www.w3.org/2000/svg\" height=\"24px\"viewBox=\"0 0 24 24\"\n",
              "       width=\"24px\">\n",
              "    <path d=\"M0 0h24v24H0V0z\" fill=\"none\"/>\n",
              "    <path d=\"M18.56 5.44l.94 2.06.94-2.06 2.06-.94-2.06-.94-.94-2.06-.94 2.06-2.06.94zm-11 1L8.5 8.5l.94-2.06 2.06-.94-2.06-.94L8.5 2.5l-.94 2.06-2.06.94zm10 10l.94 2.06.94-2.06 2.06-.94-2.06-.94-.94-2.06-.94 2.06-2.06.94z\"/><path d=\"M17.41 7.96l-1.37-1.37c-.4-.4-.92-.59-1.43-.59-.52 0-1.04.2-1.43.59L10.3 9.45l-7.72 7.72c-.78.78-.78 2.05 0 2.83L4 21.41c.39.39.9.59 1.41.59.51 0 1.02-.2 1.41-.59l7.78-7.78 2.81-2.81c.8-.78.8-2.07 0-2.86zM5.41 20L4 18.59l7.72-7.72 1.47 1.35L5.41 20z\"/>\n",
              "  </svg>\n",
              "      </button>\n",
              "      \n",
              "  <style>\n",
              "    .colab-df-container {\n",
              "      display:flex;\n",
              "      flex-wrap:wrap;\n",
              "      gap: 12px;\n",
              "    }\n",
              "\n",
              "    .colab-df-convert {\n",
              "      background-color: #E8F0FE;\n",
              "      border: none;\n",
              "      border-radius: 50%;\n",
              "      cursor: pointer;\n",
              "      display: none;\n",
              "      fill: #1967D2;\n",
              "      height: 32px;\n",
              "      padding: 0 0 0 0;\n",
              "      width: 32px;\n",
              "    }\n",
              "\n",
              "    .colab-df-convert:hover {\n",
              "      background-color: #E2EBFA;\n",
              "      box-shadow: 0px 1px 2px rgba(60, 64, 67, 0.3), 0px 1px 3px 1px rgba(60, 64, 67, 0.15);\n",
              "      fill: #174EA6;\n",
              "    }\n",
              "\n",
              "    [theme=dark] .colab-df-convert {\n",
              "      background-color: #3B4455;\n",
              "      fill: #D2E3FC;\n",
              "    }\n",
              "\n",
              "    [theme=dark] .colab-df-convert:hover {\n",
              "      background-color: #434B5C;\n",
              "      box-shadow: 0px 1px 3px 1px rgba(0, 0, 0, 0.15);\n",
              "      filter: drop-shadow(0px 1px 2px rgba(0, 0, 0, 0.3));\n",
              "      fill: #FFFFFF;\n",
              "    }\n",
              "  </style>\n",
              "\n",
              "      <script>\n",
              "        const buttonEl =\n",
              "          document.querySelector('#df-5d648b0c-dcd8-469e-a3a6-1479a28cac36 button.colab-df-convert');\n",
              "        buttonEl.style.display =\n",
              "          google.colab.kernel.accessAllowed ? 'block' : 'none';\n",
              "\n",
              "        async function convertToInteractive(key) {\n",
              "          const element = document.querySelector('#df-5d648b0c-dcd8-469e-a3a6-1479a28cac36');\n",
              "          const dataTable =\n",
              "            await google.colab.kernel.invokeFunction('convertToInteractive',\n",
              "                                                     [key], {});\n",
              "          if (!dataTable) return;\n",
              "\n",
              "          const docLinkHtml = 'Like what you see? Visit the ' +\n",
              "            '<a target=\"_blank\" href=https://colab.research.google.com/notebooks/data_table.ipynb>data table notebook</a>'\n",
              "            + ' to learn more about interactive tables.';\n",
              "          element.innerHTML = '';\n",
              "          dataTable['output_type'] = 'display_data';\n",
              "          await google.colab.output.renderOutput(dataTable, element);\n",
              "          const docLink = document.createElement('div');\n",
              "          docLink.innerHTML = docLinkHtml;\n",
              "          element.appendChild(docLink);\n",
              "        }\n",
              "      </script>\n",
              "    </div>\n",
              "  </div>\n",
              "  "
            ]
          },
          "metadata": {},
          "execution_count": 49
        }
      ]
    },
    {
      "cell_type": "code",
      "source": [
        "c_df.tail()"
      ],
      "metadata": {
        "colab": {
          "base_uri": "https://localhost:8080/",
          "height": 545
        },
        "id": "ypBZdcuzOYf4",
        "outputId": "276a9075-8ab7-4da7-ca44-c7ebab19c26d"
      },
      "execution_count": null,
      "outputs": [
        {
          "output_type": "execute_result",
          "data": {
            "text/plain": [
              "   Last Name         First Name                 Email Address  \\\n",
              "38      Abir  Syed Nazmul Hasan         snhabir1999@gmail.com   \n",
              "39      musa      ahosanulhaque   ahosanulhaquemusa@gmail.com   \n",
              "40     islam            jahidul  jahidulislam717273@gmail.com   \n",
              "41     Datta             karabi       karabidatta98@gmail.com   \n",
              "42       NaN             sadhin          ttthisisss@gmail.com   \n",
              "\n",
              "   1.What is an expression?\\n2.What is a syntax error?\\n3.What is PEP8?\\n4.What does a linter do?\\n5.What is the result of this expression: “*” * 10\\n6.What is CPython?\\n7.How is CPython different from Jython?\\n8.How is CPython different from IronPython?  \\\n",
              "38                                                NaN                                                                                                                                                                                                            \n",
              "39                                                NaN                                                                                                                                                                                                            \n",
              "40                                                NaN                                                                                                                                                                                                            \n",
              "41                                                NaN                                                                                                                                                                                                            \n",
              "42                                                NaN                                                                                                                                                                                                            \n",
              "\n",
              "   Q-1: What are the different data types in python? Give Example.\\n\\nQ-2: What is string? Describes it's Uses \\n\\nQ-3: What are the rules of declaring a variable?\\n\\nQ-4: A twenty two year old Patient in DMC is fighting with Cancer for last three and half an year. Declare all necessary variables for the patient. also print the type of your variables and add a screenshot with your answer.\\n\\nQ-5: Write an input function which will ask for your Name & date of birth(year only) and will give your age as output.  \\nfor example: X, you are Y years of old.\\n  \\\n",
              "38                                               87.0                                                                                                                                                                                                                                                                                                                                                                                                                                                                                                                            \n",
              "39                                               45.0                                                                                                                                                                                                                                                                                                                                                                                                                                                                                                                            \n",
              "40                                               60.0                                                                                                                                                                                                                                                                                                                                                                                                                                                                                                                            \n",
              "41                                               60.0                                                                                                                                                                                                                                                                                                                                                                                                                                                                                                                            \n",
              "42                                                NaN                                                                                                                                                                                                                                                                                                                                                                                                                                                                                                                            \n",
              "\n",
              "   Buiding a Basic Calculator Basic Python Contest NumPy Quiz  \n",
              "38                       15.0                  NaN       17.0  \n",
              "39                        NaN                  NaN        NaN  \n",
              "40                       15.0                  NaN       14.0  \n",
              "41                        NaN                  NaN       15.0  \n",
              "42                        NaN                  NaN        NaN  "
            ],
            "text/html": [
              "\n",
              "  <div id=\"df-106d4491-1c42-40f8-8d01-8ddd36201b4e\">\n",
              "    <div class=\"colab-df-container\">\n",
              "      <div>\n",
              "<style scoped>\n",
              "    .dataframe tbody tr th:only-of-type {\n",
              "        vertical-align: middle;\n",
              "    }\n",
              "\n",
              "    .dataframe tbody tr th {\n",
              "        vertical-align: top;\n",
              "    }\n",
              "\n",
              "    .dataframe thead th {\n",
              "        text-align: right;\n",
              "    }\n",
              "</style>\n",
              "<table border=\"1\" class=\"dataframe\">\n",
              "  <thead>\n",
              "    <tr style=\"text-align: right;\">\n",
              "      <th></th>\n",
              "      <th>Last Name</th>\n",
              "      <th>First Name</th>\n",
              "      <th>Email Address</th>\n",
              "      <th>1.What is an expression?\\n2.What is a syntax error?\\n3.What is PEP8?\\n4.What does a linter do?\\n5.What is the result of this expression: “*” * 10\\n6.What is CPython?\\n7.How is CPython different from Jython?\\n8.How is CPython different from IronPython?</th>\n",
              "      <th>Q-1: What are the different data types in python? Give Example.\\n\\nQ-2: What is string? Describes it's Uses \\n\\nQ-3: What are the rules of declaring a variable?\\n\\nQ-4: A twenty two year old Patient in DMC is fighting with Cancer for last three and half an year. Declare all necessary variables for the patient. also print the type of your variables and add a screenshot with your answer.\\n\\nQ-5: Write an input function which will ask for your Name &amp; date of birth(year only) and will give your age as output.  \\nfor example: X, you are Y years of old.\\n</th>\n",
              "      <th>Buiding a Basic Calculator</th>\n",
              "      <th>Basic Python Contest</th>\n",
              "      <th>NumPy Quiz</th>\n",
              "    </tr>\n",
              "  </thead>\n",
              "  <tbody>\n",
              "    <tr>\n",
              "      <th>38</th>\n",
              "      <td>Abir</td>\n",
              "      <td>Syed Nazmul Hasan</td>\n",
              "      <td>snhabir1999@gmail.com</td>\n",
              "      <td>NaN</td>\n",
              "      <td>87.0</td>\n",
              "      <td>15.0</td>\n",
              "      <td>NaN</td>\n",
              "      <td>17.0</td>\n",
              "    </tr>\n",
              "    <tr>\n",
              "      <th>39</th>\n",
              "      <td>musa</td>\n",
              "      <td>ahosanulhaque</td>\n",
              "      <td>ahosanulhaquemusa@gmail.com</td>\n",
              "      <td>NaN</td>\n",
              "      <td>45.0</td>\n",
              "      <td>NaN</td>\n",
              "      <td>NaN</td>\n",
              "      <td>NaN</td>\n",
              "    </tr>\n",
              "    <tr>\n",
              "      <th>40</th>\n",
              "      <td>islam</td>\n",
              "      <td>jahidul</td>\n",
              "      <td>jahidulislam717273@gmail.com</td>\n",
              "      <td>NaN</td>\n",
              "      <td>60.0</td>\n",
              "      <td>15.0</td>\n",
              "      <td>NaN</td>\n",
              "      <td>14.0</td>\n",
              "    </tr>\n",
              "    <tr>\n",
              "      <th>41</th>\n",
              "      <td>Datta</td>\n",
              "      <td>karabi</td>\n",
              "      <td>karabidatta98@gmail.com</td>\n",
              "      <td>NaN</td>\n",
              "      <td>60.0</td>\n",
              "      <td>NaN</td>\n",
              "      <td>NaN</td>\n",
              "      <td>15.0</td>\n",
              "    </tr>\n",
              "    <tr>\n",
              "      <th>42</th>\n",
              "      <td>NaN</td>\n",
              "      <td>sadhin</td>\n",
              "      <td>ttthisisss@gmail.com</td>\n",
              "      <td>NaN</td>\n",
              "      <td>NaN</td>\n",
              "      <td>NaN</td>\n",
              "      <td>NaN</td>\n",
              "      <td>NaN</td>\n",
              "    </tr>\n",
              "  </tbody>\n",
              "</table>\n",
              "</div>\n",
              "      <button class=\"colab-df-convert\" onclick=\"convertToInteractive('df-106d4491-1c42-40f8-8d01-8ddd36201b4e')\"\n",
              "              title=\"Convert this dataframe to an interactive table.\"\n",
              "              style=\"display:none;\">\n",
              "        \n",
              "  <svg xmlns=\"http://www.w3.org/2000/svg\" height=\"24px\"viewBox=\"0 0 24 24\"\n",
              "       width=\"24px\">\n",
              "    <path d=\"M0 0h24v24H0V0z\" fill=\"none\"/>\n",
              "    <path d=\"M18.56 5.44l.94 2.06.94-2.06 2.06-.94-2.06-.94-.94-2.06-.94 2.06-2.06.94zm-11 1L8.5 8.5l.94-2.06 2.06-.94-2.06-.94L8.5 2.5l-.94 2.06-2.06.94zm10 10l.94 2.06.94-2.06 2.06-.94-2.06-.94-.94-2.06-.94 2.06-2.06.94z\"/><path d=\"M17.41 7.96l-1.37-1.37c-.4-.4-.92-.59-1.43-.59-.52 0-1.04.2-1.43.59L10.3 9.45l-7.72 7.72c-.78.78-.78 2.05 0 2.83L4 21.41c.39.39.9.59 1.41.59.51 0 1.02-.2 1.41-.59l7.78-7.78 2.81-2.81c.8-.78.8-2.07 0-2.86zM5.41 20L4 18.59l7.72-7.72 1.47 1.35L5.41 20z\"/>\n",
              "  </svg>\n",
              "      </button>\n",
              "      \n",
              "  <style>\n",
              "    .colab-df-container {\n",
              "      display:flex;\n",
              "      flex-wrap:wrap;\n",
              "      gap: 12px;\n",
              "    }\n",
              "\n",
              "    .colab-df-convert {\n",
              "      background-color: #E8F0FE;\n",
              "      border: none;\n",
              "      border-radius: 50%;\n",
              "      cursor: pointer;\n",
              "      display: none;\n",
              "      fill: #1967D2;\n",
              "      height: 32px;\n",
              "      padding: 0 0 0 0;\n",
              "      width: 32px;\n",
              "    }\n",
              "\n",
              "    .colab-df-convert:hover {\n",
              "      background-color: #E2EBFA;\n",
              "      box-shadow: 0px 1px 2px rgba(60, 64, 67, 0.3), 0px 1px 3px 1px rgba(60, 64, 67, 0.15);\n",
              "      fill: #174EA6;\n",
              "    }\n",
              "\n",
              "    [theme=dark] .colab-df-convert {\n",
              "      background-color: #3B4455;\n",
              "      fill: #D2E3FC;\n",
              "    }\n",
              "\n",
              "    [theme=dark] .colab-df-convert:hover {\n",
              "      background-color: #434B5C;\n",
              "      box-shadow: 0px 1px 3px 1px rgba(0, 0, 0, 0.15);\n",
              "      filter: drop-shadow(0px 1px 2px rgba(0, 0, 0, 0.3));\n",
              "      fill: #FFFFFF;\n",
              "    }\n",
              "  </style>\n",
              "\n",
              "      <script>\n",
              "        const buttonEl =\n",
              "          document.querySelector('#df-106d4491-1c42-40f8-8d01-8ddd36201b4e button.colab-df-convert');\n",
              "        buttonEl.style.display =\n",
              "          google.colab.kernel.accessAllowed ? 'block' : 'none';\n",
              "\n",
              "        async function convertToInteractive(key) {\n",
              "          const element = document.querySelector('#df-106d4491-1c42-40f8-8d01-8ddd36201b4e');\n",
              "          const dataTable =\n",
              "            await google.colab.kernel.invokeFunction('convertToInteractive',\n",
              "                                                     [key], {});\n",
              "          if (!dataTable) return;\n",
              "\n",
              "          const docLinkHtml = 'Like what you see? Visit the ' +\n",
              "            '<a target=\"_blank\" href=https://colab.research.google.com/notebooks/data_table.ipynb>data table notebook</a>'\n",
              "            + ' to learn more about interactive tables.';\n",
              "          element.innerHTML = '';\n",
              "          dataTable['output_type'] = 'display_data';\n",
              "          await google.colab.output.renderOutput(dataTable, element);\n",
              "          const docLink = document.createElement('div');\n",
              "          docLink.innerHTML = docLinkHtml;\n",
              "          element.appendChild(docLink);\n",
              "        }\n",
              "      </script>\n",
              "    </div>\n",
              "  </div>\n",
              "  "
            ]
          },
          "metadata": {},
          "execution_count": 50
        }
      ]
    },
    {
      "cell_type": "markdown",
      "source": [
        "#**Rows and columns of the dataset**"
      ],
      "metadata": {
        "id": "6ZQRKCn3O8TR"
      }
    },
    {
      "cell_type": "code",
      "source": [
        "c_df.shape"
      ],
      "metadata": {
        "colab": {
          "base_uri": "https://localhost:8080/"
        },
        "id": "t5NwmrlaO7bQ",
        "outputId": "76336015-b72b-4787-db73-83852170279d"
      },
      "execution_count": null,
      "outputs": [
        {
          "output_type": "execute_result",
          "data": {
            "text/plain": [
              "(43, 8)"
            ]
          },
          "metadata": {},
          "execution_count": 51
        }
      ]
    },
    {
      "cell_type": "markdown",
      "source": [
        "#**Check for Null Values**"
      ],
      "metadata": {
        "id": "rX4HcSw9PTPR"
      }
    },
    {
      "cell_type": "code",
      "source": [
        "c_df.isnull().sum()"
      ],
      "metadata": {
        "colab": {
          "base_uri": "https://localhost:8080/"
        },
        "id": "s-Hp57V7PRcI",
        "outputId": "8c43d90f-59f3-4e26-9318-071d0d739079"
      },
      "execution_count": null,
      "outputs": [
        {
          "output_type": "execute_result",
          "data": {
            "text/plain": [
              "Last Name                                                                                                                                                                                                                                                                                                                                                                                                                                                                                                                                                                       1\n",
              "First Name                                                                                                                                                                                                                                                                                                                                                                                                                                                                                                                                                                      2\n",
              "Email Address                                                                                                                                                                                                                                                                                                                                                                                                                                                                                                                                                                   2\n",
              "1.What is an expression?\\n2.What is a syntax error?\\n3.What is PEP8?\\n4.What does a linter do?\\n5.What is the result of this expression: “*” * 10\\n6.What is CPython?\\n7.How is CPython different from Jython?\\n8.How is CPython different from IronPython?                                                                                                                                                                                                                                                                                                                    42\n",
              "Q-1: What are the different data types in python? Give Example.\\n\\nQ-2: What is string? Describes it's Uses \\n\\nQ-3: What are the rules of declaring a variable?\\n\\nQ-4: A twenty two year old Patient in DMC is fighting with Cancer for last three and half an year. Declare all necessary variables for the patient. also print the type of your variables and add a screenshot with your answer.\\n\\nQ-5: Write an input function which will ask for your Name & date of birth(year only) and will give your age as output.  \\nfor example: X, you are Y years of old.\\n     2\n",
              "Buiding a Basic Calculator                                                                                                                                                                                                                                                                                                                                                                                                                                                                                                                                                     18\n",
              "Basic Python Contest                                                                                                                                                                                                                                                                                                                                                                                                                                                                                                                                                           41\n",
              "NumPy Quiz                                                                                                                                                                                                                                                                                                                                                                                                                                                                                                                                                                      7\n",
              "dtype: int64"
            ]
          },
          "metadata": {},
          "execution_count": 52
        }
      ]
    },
    {
      "cell_type": "markdown",
      "source": [
        "#**Check for any duplicate in Dataset**"
      ],
      "metadata": {
        "id": "hPByMuc2Pjt1"
      }
    },
    {
      "cell_type": "code",
      "source": [
        "c_df.duplicated().sum()"
      ],
      "metadata": {
        "colab": {
          "base_uri": "https://localhost:8080/"
        },
        "id": "aAx1vBLCPjUV",
        "outputId": "fd31765c-d301-4272-f88d-e215794d31af"
      },
      "execution_count": null,
      "outputs": [
        {
          "output_type": "execute_result",
          "data": {
            "text/plain": [
              "0"
            ]
          },
          "metadata": {},
          "execution_count": 53
        }
      ]
    },
    {
      "cell_type": "markdown",
      "source": [
        "#**HEADERS OF ALL THE COLUMNS**"
      ],
      "metadata": {
        "id": "Y4DndMi8Pwuu"
      }
    },
    {
      "cell_type": "code",
      "source": [
        "c_df.columns"
      ],
      "metadata": {
        "colab": {
          "base_uri": "https://localhost:8080/"
        },
        "id": "95svpB5kPq7t",
        "outputId": "79753431-8e98-4058-95bc-3b76e8c015c9"
      },
      "execution_count": null,
      "outputs": [
        {
          "output_type": "execute_result",
          "data": {
            "text/plain": [
              "Index(['Last Name', 'First Name', 'Email Address',\n",
              "       '1.What is an expression?\\n2.What is a syntax error?\\n3.What is PEP8?\\n4.What does a linter do?\\n5.What is the result of this expression: “*” * 10\\n6.What is CPython?\\n7.How is CPython different from Jython?\\n8.How is CPython different from IronPython?',\n",
              "       'Q-1: What are the different data types in python? Give Example.\\n\\nQ-2: What is string? Describes it's Uses \\n\\nQ-3: What are the rules of declaring a variable?\\n\\nQ-4: A twenty two year old Patient in DMC is fighting with Cancer for last three and half an year. Declare all necessary variables for the patient. also print the type of your variables and add a screenshot with your answer.\\n\\nQ-5: Write an input function which will ask for your Name & date of birth(year only) and will give your age as output.  \\nfor example: X, you are Y years of old.\\n',\n",
              "       'Buiding a Basic Calculator', 'Basic Python Contest', 'NumPy Quiz'],\n",
              "      dtype='object')"
            ]
          },
          "metadata": {},
          "execution_count": 54
        }
      ]
    },
    {
      "cell_type": "markdown",
      "source": [
        "#**Checking Data type**"
      ],
      "metadata": {
        "id": "YgNi46WiQEe3"
      }
    },
    {
      "cell_type": "code",
      "source": [
        "c_df.dtypes"
      ],
      "metadata": {
        "colab": {
          "base_uri": "https://localhost:8080/"
        },
        "id": "JG-234HIQEF4",
        "outputId": "78cc481c-7843-48d9-d483-e0dadcdac219"
      },
      "execution_count": null,
      "outputs": [
        {
          "output_type": "execute_result",
          "data": {
            "text/plain": [
              "Last Name                                                                                                                                                                                                                                                                                                                                                                                                                                                                                                                                                                      object\n",
              "First Name                                                                                                                                                                                                                                                                                                                                                                                                                                                                                                                                                                     object\n",
              "Email Address                                                                                                                                                                                                                                                                                                                                                                                                                                                                                                                                                                  object\n",
              "1.What is an expression?\\n2.What is a syntax error?\\n3.What is PEP8?\\n4.What does a linter do?\\n5.What is the result of this expression: “*” * 10\\n6.What is CPython?\\n7.How is CPython different from Jython?\\n8.How is CPython different from IronPython?                                                                                                                                                                                                                                                                                                                    object\n",
              "Q-1: What are the different data types in python? Give Example.\\n\\nQ-2: What is string? Describes it's Uses \\n\\nQ-3: What are the rules of declaring a variable?\\n\\nQ-4: A twenty two year old Patient in DMC is fighting with Cancer for last three and half an year. Declare all necessary variables for the patient. also print the type of your variables and add a screenshot with your answer.\\n\\nQ-5: Write an input function which will ask for your Name & date of birth(year only) and will give your age as output.  \\nfor example: X, you are Y years of old.\\n    object\n",
              "Buiding a Basic Calculator                                                                                                                                                                                                                                                                                                                                                                                                                                                                                                                                                     object\n",
              "Basic Python Contest                                                                                                                                                                                                                                                                                                                                                                                                                                                                                                                                                           object\n",
              "NumPy Quiz                                                                                                                                                                                                                                                                                                                                                                                                                                                                                                                                                                     object\n",
              "dtype: object"
            ]
          },
          "metadata": {},
          "execution_count": 55
        }
      ]
    },
    {
      "cell_type": "markdown",
      "source": [
        "#**Checking for unique dataset**"
      ],
      "metadata": {
        "id": "3OuhLpyKQSuf"
      }
    },
    {
      "cell_type": "code",
      "source": [
        "c_df.nunique()"
      ],
      "metadata": {
        "colab": {
          "base_uri": "https://localhost:8080/"
        },
        "id": "1UVxAmjiQSUO",
        "outputId": "d9f2a468-6efa-48ae-df33-0f3e07891a0f"
      },
      "execution_count": null,
      "outputs": [
        {
          "output_type": "execute_result",
          "data": {
            "text/plain": [
              "name            21\n",
              "email           21\n",
              "Assignment_2    11\n",
              "Assignment_3     2\n",
              "Quiz             6\n",
              "total_Marks     17\n",
              "Percentage      17\n",
              "dtype: int64"
            ]
          },
          "metadata": {},
          "execution_count": 89
        }
      ]
    },
    {
      "cell_type": "markdown",
      "source": [
        "#**BASICS STATISTICS OF DATA**"
      ],
      "metadata": {
        "id": "aooZ1e_4Qjmj"
      }
    },
    {
      "cell_type": "code",
      "source": [
        "c_df.describe()"
      ],
      "metadata": {
        "colab": {
          "base_uri": "https://localhost:8080/",
          "height": 496
        },
        "id": "4JsxyyJZQjKK",
        "outputId": "a2544c3d-6ec9-4c35-9393-a5765f0f3291"
      },
      "execution_count": null,
      "outputs": [
        {
          "output_type": "execute_result",
          "data": {
            "text/plain": [
              "       Last Name  First Name               Email Address  \\\n",
              "count         42          41                          41   \n",
              "unique        36          41                          41   \n",
              "top     Siddique  Abu Bakkar  bakkarreigns1111@gmail.com   \n",
              "freq           2           1                           1   \n",
              "\n",
              "       1.What is an expression?\\n2.What is a syntax error?\\n3.What is PEP8?\\n4.What does a linter do?\\n5.What is the result of this expression: “*” * 10\\n6.What is CPython?\\n7.How is CPython different from Jython?\\n8.How is CPython different from IronPython?  \\\n",
              "count                                                   1                                                                                                                                                                                                            \n",
              "unique                                                  1                                                                                                                                                                                                            \n",
              "top                                          Oct 22, 2022                                                                                                                                                                                                            \n",
              "freq                                                    1                                                                                                                                                                                                            \n",
              "\n",
              "       Q-1: What are the different data types in python? Give Example.\\n\\nQ-2: What is string? Describes it's Uses \\n\\nQ-3: What are the rules of declaring a variable?\\n\\nQ-4: A twenty two year old Patient in DMC is fighting with Cancer for last three and half an year. Declare all necessary variables for the patient. also print the type of your variables and add a screenshot with your answer.\\n\\nQ-5: Write an input function which will ask for your Name & date of birth(year only) and will give your age as output.  \\nfor example: X, you are Y years of old.\\n  \\\n",
              "count                                                  41                                                                                                                                                                                                                                                                                                                                                                                                                                                                                                                            \n",
              "unique                                                 14                                                                                                                                                                                                                                                                                                                                                                                                                                                                                                                            \n",
              "top                                                  60.0                                                                                                                                                                                                                                                                                                                                                                                                                                                                                                                            \n",
              "freq                                                   12                                                                                                                                                                                                                                                                                                                                                                                                                                                                                                                            \n",
              "\n",
              "       Buiding a Basic Calculator Basic Python Contest NumPy Quiz  \n",
              "count                          25                    2         36  \n",
              "unique                          3                    2          8  \n",
              "top                          15.0         Nov 24, 2022       15.0  \n",
              "freq                           23                    1         10  "
            ],
            "text/html": [
              "\n",
              "  <div id=\"df-523581a8-9cfc-4eba-a4b3-cf0089d07ade\">\n",
              "    <div class=\"colab-df-container\">\n",
              "      <div>\n",
              "<style scoped>\n",
              "    .dataframe tbody tr th:only-of-type {\n",
              "        vertical-align: middle;\n",
              "    }\n",
              "\n",
              "    .dataframe tbody tr th {\n",
              "        vertical-align: top;\n",
              "    }\n",
              "\n",
              "    .dataframe thead th {\n",
              "        text-align: right;\n",
              "    }\n",
              "</style>\n",
              "<table border=\"1\" class=\"dataframe\">\n",
              "  <thead>\n",
              "    <tr style=\"text-align: right;\">\n",
              "      <th></th>\n",
              "      <th>Last Name</th>\n",
              "      <th>First Name</th>\n",
              "      <th>Email Address</th>\n",
              "      <th>1.What is an expression?\\n2.What is a syntax error?\\n3.What is PEP8?\\n4.What does a linter do?\\n5.What is the result of this expression: “*” * 10\\n6.What is CPython?\\n7.How is CPython different from Jython?\\n8.How is CPython different from IronPython?</th>\n",
              "      <th>Q-1: What are the different data types in python? Give Example.\\n\\nQ-2: What is string? Describes it's Uses \\n\\nQ-3: What are the rules of declaring a variable?\\n\\nQ-4: A twenty two year old Patient in DMC is fighting with Cancer for last three and half an year. Declare all necessary variables for the patient. also print the type of your variables and add a screenshot with your answer.\\n\\nQ-5: Write an input function which will ask for your Name &amp; date of birth(year only) and will give your age as output.  \\nfor example: X, you are Y years of old.\\n</th>\n",
              "      <th>Buiding a Basic Calculator</th>\n",
              "      <th>Basic Python Contest</th>\n",
              "      <th>NumPy Quiz</th>\n",
              "    </tr>\n",
              "  </thead>\n",
              "  <tbody>\n",
              "    <tr>\n",
              "      <th>count</th>\n",
              "      <td>42</td>\n",
              "      <td>41</td>\n",
              "      <td>41</td>\n",
              "      <td>1</td>\n",
              "      <td>41</td>\n",
              "      <td>25</td>\n",
              "      <td>2</td>\n",
              "      <td>36</td>\n",
              "    </tr>\n",
              "    <tr>\n",
              "      <th>unique</th>\n",
              "      <td>36</td>\n",
              "      <td>41</td>\n",
              "      <td>41</td>\n",
              "      <td>1</td>\n",
              "      <td>14</td>\n",
              "      <td>3</td>\n",
              "      <td>2</td>\n",
              "      <td>8</td>\n",
              "    </tr>\n",
              "    <tr>\n",
              "      <th>top</th>\n",
              "      <td>Siddique</td>\n",
              "      <td>Abu Bakkar</td>\n",
              "      <td>bakkarreigns1111@gmail.com</td>\n",
              "      <td>Oct 22, 2022</td>\n",
              "      <td>60.0</td>\n",
              "      <td>15.0</td>\n",
              "      <td>Nov 24, 2022</td>\n",
              "      <td>15.0</td>\n",
              "    </tr>\n",
              "    <tr>\n",
              "      <th>freq</th>\n",
              "      <td>2</td>\n",
              "      <td>1</td>\n",
              "      <td>1</td>\n",
              "      <td>1</td>\n",
              "      <td>12</td>\n",
              "      <td>23</td>\n",
              "      <td>1</td>\n",
              "      <td>10</td>\n",
              "    </tr>\n",
              "  </tbody>\n",
              "</table>\n",
              "</div>\n",
              "      <button class=\"colab-df-convert\" onclick=\"convertToInteractive('df-523581a8-9cfc-4eba-a4b3-cf0089d07ade')\"\n",
              "              title=\"Convert this dataframe to an interactive table.\"\n",
              "              style=\"display:none;\">\n",
              "        \n",
              "  <svg xmlns=\"http://www.w3.org/2000/svg\" height=\"24px\"viewBox=\"0 0 24 24\"\n",
              "       width=\"24px\">\n",
              "    <path d=\"M0 0h24v24H0V0z\" fill=\"none\"/>\n",
              "    <path d=\"M18.56 5.44l.94 2.06.94-2.06 2.06-.94-2.06-.94-.94-2.06-.94 2.06-2.06.94zm-11 1L8.5 8.5l.94-2.06 2.06-.94-2.06-.94L8.5 2.5l-.94 2.06-2.06.94zm10 10l.94 2.06.94-2.06 2.06-.94-2.06-.94-.94-2.06-.94 2.06-2.06.94z\"/><path d=\"M17.41 7.96l-1.37-1.37c-.4-.4-.92-.59-1.43-.59-.52 0-1.04.2-1.43.59L10.3 9.45l-7.72 7.72c-.78.78-.78 2.05 0 2.83L4 21.41c.39.39.9.59 1.41.59.51 0 1.02-.2 1.41-.59l7.78-7.78 2.81-2.81c.8-.78.8-2.07 0-2.86zM5.41 20L4 18.59l7.72-7.72 1.47 1.35L5.41 20z\"/>\n",
              "  </svg>\n",
              "      </button>\n",
              "      \n",
              "  <style>\n",
              "    .colab-df-container {\n",
              "      display:flex;\n",
              "      flex-wrap:wrap;\n",
              "      gap: 12px;\n",
              "    }\n",
              "\n",
              "    .colab-df-convert {\n",
              "      background-color: #E8F0FE;\n",
              "      border: none;\n",
              "      border-radius: 50%;\n",
              "      cursor: pointer;\n",
              "      display: none;\n",
              "      fill: #1967D2;\n",
              "      height: 32px;\n",
              "      padding: 0 0 0 0;\n",
              "      width: 32px;\n",
              "    }\n",
              "\n",
              "    .colab-df-convert:hover {\n",
              "      background-color: #E2EBFA;\n",
              "      box-shadow: 0px 1px 2px rgba(60, 64, 67, 0.3), 0px 1px 3px 1px rgba(60, 64, 67, 0.15);\n",
              "      fill: #174EA6;\n",
              "    }\n",
              "\n",
              "    [theme=dark] .colab-df-convert {\n",
              "      background-color: #3B4455;\n",
              "      fill: #D2E3FC;\n",
              "    }\n",
              "\n",
              "    [theme=dark] .colab-df-convert:hover {\n",
              "      background-color: #434B5C;\n",
              "      box-shadow: 0px 1px 3px 1px rgba(0, 0, 0, 0.15);\n",
              "      filter: drop-shadow(0px 1px 2px rgba(0, 0, 0, 0.3));\n",
              "      fill: #FFFFFF;\n",
              "    }\n",
              "  </style>\n",
              "\n",
              "      <script>\n",
              "        const buttonEl =\n",
              "          document.querySelector('#df-523581a8-9cfc-4eba-a4b3-cf0089d07ade button.colab-df-convert');\n",
              "        buttonEl.style.display =\n",
              "          google.colab.kernel.accessAllowed ? 'block' : 'none';\n",
              "\n",
              "        async function convertToInteractive(key) {\n",
              "          const element = document.querySelector('#df-523581a8-9cfc-4eba-a4b3-cf0089d07ade');\n",
              "          const dataTable =\n",
              "            await google.colab.kernel.invokeFunction('convertToInteractive',\n",
              "                                                     [key], {});\n",
              "          if (!dataTable) return;\n",
              "\n",
              "          const docLinkHtml = 'Like what you see? Visit the ' +\n",
              "            '<a target=\"_blank\" href=https://colab.research.google.com/notebooks/data_table.ipynb>data table notebook</a>'\n",
              "            + ' to learn more about interactive tables.';\n",
              "          element.innerHTML = '';\n",
              "          dataTable['output_type'] = 'display_data';\n",
              "          await google.colab.output.renderOutput(dataTable, element);\n",
              "          const docLink = document.createElement('div');\n",
              "          docLink.innerHTML = docLinkHtml;\n",
              "          element.appendChild(docLink);\n",
              "        }\n",
              "      </script>\n",
              "    </div>\n",
              "  </div>\n",
              "  "
            ]
          },
          "metadata": {},
          "execution_count": 57
        }
      ]
    },
    {
      "cell_type": "markdown",
      "source": [
        "# ***Renaming Feature***"
      ],
      "metadata": {
        "id": "QfMms4U5QukW"
      }
    },
    {
      "cell_type": "code",
      "source": [
        "c_df.rename(columns={\"1.What is an expression?\\n2.What is a syntax error?\\n3.What is PEP8?\\n4.What does a linter do?\\n5.What is the result of this expression: “*” * 10\\n6.What is CPython?\\n7.How is CPython different from Jython?\\n8.How is CPython different from IronPython?\":\"Assignment-1\",\"Q-1: What are the different data types in python? Give Example.\\n\\nQ-2: What is string? Describes it's Uses \\n\\nQ-3: What are the rules of declaring a variable?\\n\\nQ-4: A twenty two year old Patient in DMC is fighting with Cancer for last three and half an year. Declare all necessary variables for the patient. also print the type of your variables and add a screenshot with your answer.\\n\\nQ-5: Write an input function which will ask for your Name & date of birth(year only) and will give your age as output.  \\nfor example: X, you are Y years of old.\\n\":\"Assignment_2\",\"Buiding a Basic Calculator\":\"Assignment_3\",\"Basic Python Contest\":\"contest\",\"NumPy Quiz\":\"Quiz\",\"Email Address\":\"email\"},inplace=True)\n"
      ],
      "metadata": {
        "id": "Ogm3ELlygW6L"
      },
      "execution_count": null,
      "outputs": []
    },
    {
      "cell_type": "markdown",
      "source": [
        "# **Dropping**"
      ],
      "metadata": {
        "id": "y2P-qiYYQ2Zx"
      }
    },
    {
      "cell_type": "code",
      "source": [
        "c_df.drop([0,1],inplace=True)\n"
      ],
      "metadata": {
        "id": "KHzLdB55lDBd"
      },
      "execution_count": null,
      "outputs": []
    },
    {
      "cell_type": "code",
      "source": [
        "c_df.drop([\"Assignment-1\",\"contest\"],axis=1,inplace=True)"
      ],
      "metadata": {
        "id": "ci5Eid2xoKKS"
      },
      "execution_count": null,
      "outputs": []
    },
    {
      "cell_type": "code",
      "source": [
        "name=c_df[\"First Name\"]+\" \"+c_df[\"Last Name\"]\n",
        "c_df.insert(0,\"name\",name)"
      ],
      "metadata": {
        "id": "-1QnPSLNkQep"
      },
      "execution_count": null,
      "outputs": []
    },
    {
      "cell_type": "code",
      "source": [
        "c_df.drop([\"Last Name\",\"First Name\"],axis=1,inplace=True)"
      ],
      "metadata": {
        "id": "bJKC6uaPvfBU"
      },
      "execution_count": null,
      "outputs": []
    },
    {
      "cell_type": "code",
      "source": [
        "c_df.dropna(axis = 'index', how = 'any', inplace = True)"
      ],
      "metadata": {
        "id": "__pUSU7zvmQO"
      },
      "execution_count": null,
      "outputs": []
    },
    {
      "cell_type": "markdown",
      "source": [
        "#***Setting Index***"
      ],
      "metadata": {
        "id": "sm81WUb9Q-dl"
      }
    },
    {
      "cell_type": "code",
      "source": [
        "c_df.index = np.arange(1, len(c_df)+1)\n"
      ],
      "metadata": {
        "id": "PfejYpWhwwLx"
      },
      "execution_count": null,
      "outputs": []
    },
    {
      "cell_type": "markdown",
      "source": [
        "#***Changing Data Types***"
      ],
      "metadata": {
        "id": "MPG2ovIpRFr1"
      }
    },
    {
      "cell_type": "code",
      "source": [
        "c_df['Assignment_2'] = c_df['Assignment_2'].astype('float')"
      ],
      "metadata": {
        "id": "yBl7h5e5ag6F"
      },
      "execution_count": null,
      "outputs": []
    },
    {
      "cell_type": "code",
      "source": [
        "c_df['Assignment_3'] = c_df['Assignment_3'].astype('float')"
      ],
      "metadata": {
        "id": "rJ10w1W08ntQ"
      },
      "execution_count": null,
      "outputs": []
    },
    {
      "cell_type": "code",
      "source": [
        "c_df['Quiz'] = c_df['Quiz'].astype('float')\n"
      ],
      "metadata": {
        "id": "QVIlN2fM_0ii"
      },
      "execution_count": null,
      "outputs": []
    },
    {
      "cell_type": "code",
      "source": [
        "cols = ['Assignment_2', \"Assignment_3\",\"Quiz\"]\n",
        "c_df['total_Marks'] = c_df[cols].sum(axis=1)"
      ],
      "metadata": {
        "id": "NJYvOi_bfVcG"
      },
      "execution_count": null,
      "outputs": []
    },
    {
      "cell_type": "code",
      "source": [
        "c_df['total_Marks'] = c_df['total_Marks'].astype('float')"
      ],
      "metadata": {
        "id": "2x8hXWeL5un_"
      },
      "execution_count": null,
      "outputs": []
    },
    {
      "cell_type": "code",
      "source": [
        "c_df[\"Percentage\"]=(c_df[\"total_Marks\"]/135)*100"
      ],
      "metadata": {
        "id": "Ona8AiuWjCHY"
      },
      "execution_count": null,
      "outputs": []
    },
    {
      "cell_type": "markdown",
      "source": [
        "#**Q1:Assignment wise top 10 students**"
      ],
      "metadata": {
        "id": "LQtcMg65xcN4"
      }
    },
    {
      "cell_type": "code",
      "source": [
        "ass2=c_df.groupby(\"name\").Assignment_2.sum().sort_values(ascending=False)\n",
        "ass2"
      ],
      "metadata": {
        "id": "XsfqWlb_4Amc",
        "colab": {
          "base_uri": "https://localhost:8080/"
        },
        "outputId": "db338d2f-aac4-4d5d-ec54-94a7aefcc031"
      },
      "execution_count": null,
      "outputs": [
        {
          "output_type": "execute_result",
          "data": {
            "text/plain": [
              "name\n",
              "Syed Nazmul Hasan Abir    87.0\n",
              "Ashraful Islam            85.0\n",
              "Afnan Hossain             75.0\n",
              "Md Habibul Bashar         70.0\n",
              "Nahima Hasan              65.0\n",
              "Md. Abu Bokor Siddique    60.0\n",
              "S.M RAKIBUL HASAN         60.0\n",
              "Naeemur Rahman Rifti      60.0\n",
              "Mrasathoy Marma           60.0\n",
              "jahidul islam             60.0\n",
              "Md Neaz Ali               60.0\n",
              "Kazi Sayeed               60.0\n",
              "Jinia K.                  60.0\n",
              "Mahedi Hassan             50.0\n",
              "Md Robin Khan             45.0\n",
              "Md Rakibul Hachan         45.0\n",
              "Shahin Khan               45.0\n",
              "Mohammad Sagor Sarker     45.0\n",
              "Nazmul Haque              35.0\n",
              "Omith Hassan              28.0\n",
              "Nasim Uddin NI            25.0\n",
              "Name: Assignment_2, dtype: float64"
            ]
          },
          "metadata": {},
          "execution_count": 71
        }
      ]
    },
    {
      "cell_type": "code",
      "source": [
        "ass3=c_df.groupby(\"name\").Assignment_3.sum().sort_values(ascending=False)"
      ],
      "metadata": {
        "id": "LQUS4yHPHDzs"
      },
      "execution_count": null,
      "outputs": []
    },
    {
      "cell_type": "code",
      "source": [
        "quiz=c_df.groupby(\"name\").Quiz.sum().sort_values(ascending=False)"
      ],
      "metadata": {
        "id": "Y_CT1uBnHg0l"
      },
      "execution_count": null,
      "outputs": []
    },
    {
      "cell_type": "code",
      "source": [
        "top_ass2=ass2[:10]\n",
        "top_ass2"
      ],
      "metadata": {
        "id": "fuLuGr_oFNMH",
        "colab": {
          "base_uri": "https://localhost:8080/"
        },
        "outputId": "8cd770c6-faf3-42b8-8faf-1f7849415b28"
      },
      "execution_count": null,
      "outputs": [
        {
          "output_type": "execute_result",
          "data": {
            "text/plain": [
              "name\n",
              "Syed Nazmul Hasan Abir    87.0\n",
              "Ashraful Islam            85.0\n",
              "Afnan Hossain             75.0\n",
              "Md Habibul Bashar         70.0\n",
              "Nahima Hasan              65.0\n",
              "Md. Abu Bokor Siddique    60.0\n",
              "S.M RAKIBUL HASAN         60.0\n",
              "Naeemur Rahman Rifti      60.0\n",
              "Mrasathoy Marma           60.0\n",
              "jahidul islam             60.0\n",
              "Name: Assignment_2, dtype: float64"
            ]
          },
          "metadata": {},
          "execution_count": 74
        }
      ]
    },
    {
      "cell_type": "code",
      "source": [
        "top_ass3=ass3[:10]"
      ],
      "metadata": {
        "id": "0ubWt7WhHuKW"
      },
      "execution_count": null,
      "outputs": []
    },
    {
      "cell_type": "code",
      "source": [
        "qu=quiz[:10]\n",
        "qu"
      ],
      "metadata": {
        "id": "vVcpqtpoHy0z",
        "colab": {
          "base_uri": "https://localhost:8080/"
        },
        "outputId": "a8ff1dd7-c343-41e1-f07e-f3e7c4bfcf66"
      },
      "execution_count": null,
      "outputs": [
        {
          "output_type": "execute_result",
          "data": {
            "text/plain": [
              "name\n",
              "Kazi Sayeed               18.0\n",
              "Mahedi Hassan             18.0\n",
              "Ashraful Islam            18.0\n",
              "Nahima Hasan              17.0\n",
              "Jinia K.                  17.0\n",
              "Syed Nazmul Hasan Abir    17.0\n",
              "Md Neaz Ali               17.0\n",
              "Afnan Hossain             16.0\n",
              "Shahin Khan               16.0\n",
              "S.M RAKIBUL HASAN         16.0\n",
              "Name: Quiz, dtype: float64"
            ]
          },
          "metadata": {},
          "execution_count": 76
        }
      ]
    },
    {
      "cell_type": "code",
      "source": [
        "quizKey=qu.keys()\n",
        "quizKey"
      ],
      "metadata": {
        "id": "3o0VVAZn-odJ",
        "colab": {
          "base_uri": "https://localhost:8080/"
        },
        "outputId": "e3f1c206-7093-44c9-fea3-e40008c2fba6"
      },
      "execution_count": null,
      "outputs": [
        {
          "output_type": "execute_result",
          "data": {
            "text/plain": [
              "Index(['Kazi Sayeed', 'Mahedi Hassan', 'Ashraful Islam', 'Nahima Hasan',\n",
              "       'Jinia K.', 'Syed Nazmul Hasan Abir', 'Md Neaz Ali', 'Afnan Hossain',\n",
              "       'Shahin Khan', 'S.M RAKIBUL HASAN'],\n",
              "      dtype='object', name='name')"
            ]
          },
          "metadata": {},
          "execution_count": 77
        }
      ]
    },
    {
      "cell_type": "code",
      "source": [
        "ass2Key=ass2[:10].keys()"
      ],
      "metadata": {
        "id": "ISjlqYl8A52k"
      },
      "execution_count": null,
      "outputs": []
    },
    {
      "cell_type": "code",
      "source": [
        "ass3Key=ass3[:10].keys()"
      ],
      "metadata": {
        "id": "nVdigLFGH8Pk"
      },
      "execution_count": null,
      "outputs": []
    },
    {
      "cell_type": "code",
      "source": [
        "plt.figure(figsize=(15,5))\n",
        "sns.barplot(x=quizKey,y=qu, palette = 'Dark2')\n",
        "plt.title(\"Top 10 student [Quiz]\",color=\"blue\")\n",
        "plt.xlabel(\"Student Name\",color=\"purple\",)\n",
        "plt.ylabel(\"Number\",color=\"purple\")\n",
        "plt.grid(False)\n",
        "plt.xticks(rotation=60)\n",
        "plt.show"
      ],
      "metadata": {
        "colab": {
          "base_uri": "https://localhost:8080/",
          "height": 468
        },
        "id": "CvSa1ZpAX_wO",
        "outputId": "8ab24add-dd04-47fa-a821-ecad5c161f37"
      },
      "execution_count": null,
      "outputs": [
        {
          "output_type": "execute_result",
          "data": {
            "text/plain": [
              "<function matplotlib.pyplot.show(*args, **kw)>"
            ]
          },
          "metadata": {},
          "execution_count": 80
        },
        {
          "output_type": "display_data",
          "data": {
            "text/plain": [
              "<Figure size 1080x360 with 1 Axes>"
            ],
            "image/png": "[encoded data removed]"
          },
          "metadata": {
            "needs_background": "light"
          }
        }
      ]
    },
    {
      "cell_type": "code",
      "source": [
        "plt.figure(figsize=(15,5))\n",
        "sns.barplot(y=top_ass2,x=ass2Key, palette = 'gist_earth')\n",
        "plt.title(\"Top 10 student [Assignment_2]\",color=\"blue\")\n",
        "plt.xlabel(\"Student Name\",color=\"purple\",)\n",
        "plt.ylabel(\"Number\",color=\"purple\")\n",
        "plt.grid(False)\n",
        "plt.xticks(rotation=60)\n",
        "plt.show"
      ],
      "metadata": {
        "colab": {
          "base_uri": "https://localhost:8080/",
          "height": 468
        },
        "id": "SbSV7TNW_za3",
        "outputId": "30a89e34-528a-4f47-d83c-c06454e1d86f"
      },
      "execution_count": null,
      "outputs": [
        {
          "output_type": "execute_result",
          "data": {
            "text/plain": [
              "<function matplotlib.pyplot.show(*args, **kw)>"
            ]
          },
          "metadata": {},
          "execution_count": 81
        },
        {
          "output_type": "display_data",
          "data": {
            "text/plain": [
              "<Figure size 1080x360 with 1 Axes>"
            ],
            "image/png": "[encoded data removed]"
          },
          "metadata": {
            "needs_background": "light"
          }
        }
      ]
    },
    {
      "cell_type": "code",
      "source": [
        "plt.figure(figsize=(15,5))\n",
        "sns.barplot(y=top_ass3,x=ass3Key, palette =\"Set2\")\n",
        "plt.title(\"Top 10 student [Assignment_3]\",color=\"blue\")\n",
        "plt.xlabel(\"Student Name\",color=\"purple\",)\n",
        "plt.ylabel(\"Number\",color=\"purple\")\n",
        "plt.grid(False)\n",
        "plt.xticks(rotation=60)\n",
        "plt.show"
      ],
      "metadata": {
        "id": "rW43a78vCAnV",
        "colab": {
          "base_uri": "https://localhost:8080/",
          "height": 468
        },
        "outputId": "7846711d-6d73-4cbc-cd0a-2b66b478611a"
      },
      "execution_count": null,
      "outputs": [
        {
          "output_type": "execute_result",
          "data": {
            "text/plain": [
              "<function matplotlib.pyplot.show(*args, **kw)>"
            ]
          },
          "metadata": {},
          "execution_count": 82
        },
        {
          "output_type": "display_data",
          "data": {
            "text/plain": [
              "<Figure size 1080x360 with 1 Axes>"
            ],
            "image/png": "[encoded data removed]"
          },
          "metadata": {
            "needs_background": "light"
          }
        }
      ]
    },
    {
      "cell_type": "markdown",
      "source": [
        "#**percentage wise top 10 Students**"
      ],
      "metadata": {
        "id": "KyCrwrVVDJdk"
      }
    },
    {
      "cell_type": "code",
      "source": [
        "per=c_df.groupby(\"name\").Percentage.sum().sort_values(ascending=False)\n",
        "per_10=per[:10]"
      ],
      "metadata": {
        "id": "1vKClO4VEev8"
      },
      "execution_count": null,
      "outputs": []
    },
    {
      "cell_type": "code",
      "source": [
        "per_key=per_10.keys()\n",
        "per_key"
      ],
      "metadata": {
        "id": "Mbp22HKAGyTB",
        "colab": {
          "base_uri": "https://localhost:8080/"
        },
        "outputId": "13367639-3307-43e6-d77c-229bd4c98a4e"
      },
      "execution_count": null,
      "outputs": [
        {
          "output_type": "execute_result",
          "data": {
            "text/plain": [
              "Index(['Syed Nazmul Hasan Abir', 'Ashraful Islam', 'Afnan Hossain',\n",
              "       'Md Habibul Bashar', 'Nahima Hasan', 'Kazi Sayeed', 'Jinia K.',\n",
              "       'Md Neaz Ali', 'S.M RAKIBUL HASAN', 'Mrasathoy Marma'],\n",
              "      dtype='object', name='name')"
            ]
          },
          "metadata": {},
          "execution_count": 84
        }
      ]
    },
    {
      "cell_type": "code",
      "source": [
        "plt.figure(figsize=(15,5))\n",
        "#plt.bar(subcatKey,subCat,color=\"teal\")\n",
        "sns.barplot(y=per_10,x=per_key, palette =\"flare\")\n",
        "plt.title(\"Top 10 student [percentage]\",color=\"blue\")\n",
        "plt.xlabel(\"Student Name\",color=\"purple\",)\n",
        "plt.ylabel(\"Number in percentage\",color=\"purple\")\n",
        "plt.grid(False)\n",
        "plt.xticks(rotation=60)\n",
        "plt.show"
      ],
      "metadata": {
        "colab": {
          "base_uri": "https://localhost:8080/",
          "height": 468
        },
        "id": "0EEZx32PIGt_",
        "outputId": "b3d75de8-edbb-46df-d46b-97f9f1885274"
      },
      "execution_count": null,
      "outputs": [
        {
          "output_type": "execute_result",
          "data": {
            "text/plain": [
              "<function matplotlib.pyplot.show(*args, **kw)>"
            ]
          },
          "metadata": {},
          "execution_count": 85
        },
        {
          "output_type": "display_data",
          "data": {
            "text/plain": [
              "<Figure size 1080x360 with 1 Axes>"
            ],
            "image/png": "[encoded data removed]"
          },
          "metadata": {
            "needs_background": "light"
          }
        }
      ]
    },
    {
      "cell_type": "markdown",
      "source": [
        "#**Top 5 students**"
      ],
      "metadata": {
        "id": "_j_uUVciJNWf"
      }
    },
    {
      "cell_type": "code",
      "source": [
        "top5=c_df.groupby(\"name\").total_Marks.sum().sort_values(ascending=False)\n",
        "top_5=top5[:5]"
      ],
      "metadata": {
        "id": "lkPK5HEFJMzv"
      },
      "execution_count": null,
      "outputs": []
    },
    {
      "cell_type": "code",
      "source": [
        "top5Key=top_5.keys()"
      ],
      "metadata": {
        "id": "tQekmMgeMBTC"
      },
      "execution_count": null,
      "outputs": []
    },
    {
      "cell_type": "code",
      "source": [
        "plt.figure(figsize=(5,6))\n",
        "colors = sns.color_palette('Set2_r')[0:5]\n",
        "explode = [0.1, 0.1, 0.1, 0.1, 0.1]\n",
        "plt.title(\"Top 5 student \",color=\"red\",size=30)\n",
        "plt.pie(top_5,labels=top5Key,colors = colors,explode=explode,autopct=\"%2.1f%%\")\n",
        "plt.show()"
      ],
      "metadata": {
        "colab": {
          "base_uri": "https://localhost:8080/",
          "height": 339
        },
        "id": "yCHNzeY2Dayz",
        "outputId": "a1b89edc-c7ba-4633-9917-8ad0632d713b"
      },
      "execution_count": null,
      "outputs": [
        {
          "output_type": "display_data",
          "data": {
            "text/plain": [
              "<Figure size 360x432 with 1 Axes>"
            ],
            "image/png": "[encoded data removed]"
          },
          "metadata": {}
        }
      ]
    }
  ]
}